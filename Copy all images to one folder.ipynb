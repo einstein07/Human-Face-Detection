{
 "cells": [
  {
   "cell_type": "code",
   "execution_count": 1,
   "metadata": {
    "scrolled": false
   },
   "outputs": [
    {
     "name": "stdout",
     "output_type": "stream",
     "text": [
      "started...\n"
     ]
    },
    {
     "ename": "TypeError",
     "evalue": "can only concatenate str (not \"int\") to str",
     "output_type": "error",
     "traceback": [
      "\u001b[0;31m--------------------------------------------------------------------------\u001b[0m",
      "\u001b[0;31mTypeError\u001b[0m                                Traceback (most recent call last)",
      "\u001b[0;32m<ipython-input-1-cc493e320806>\u001b[0m in \u001b[0;36m<module>\u001b[0;34m\u001b[0m\n\u001b[1;32m     23\u001b[0m \u001b[0;34m\u001b[0m\u001b[0m\n\u001b[1;32m     24\u001b[0m \u001b[0msourcepath\u001b[0m \u001b[0;34m=\u001b[0m \u001b[0;34m'lfw'\u001b[0m\u001b[0;34m\u001b[0m\u001b[0;34m\u001b[0m\u001b[0m\n\u001b[0;32m---> 25\u001b[0;31m \u001b[0mload_data\u001b[0m\u001b[0;34m(\u001b[0m\u001b[0msourcepath\u001b[0m\u001b[0;34m)\u001b[0m\u001b[0;34m\u001b[0m\u001b[0;34m\u001b[0m\u001b[0m\n\u001b[0m",
      "\u001b[0;32m<ipython-input-1-cc493e320806>\u001b[0m in \u001b[0;36mload_data\u001b[0;34m(data_dir)\u001b[0m\n\u001b[1;32m     19\u001b[0m             \u001b[0mcount\u001b[0m \u001b[0;34m=\u001b[0m \u001b[0mcount\u001b[0m\u001b[0;34m+\u001b[0m\u001b[0;36m1\u001b[0m\u001b[0;34m\u001b[0m\u001b[0;34m\u001b[0m\u001b[0m\n\u001b[1;32m     20\u001b[0m         \u001b[0;31m#print(person_dir)\u001b[0m\u001b[0;34m\u001b[0m\u001b[0;34m\u001b[0m\u001b[0;34m\u001b[0m\u001b[0m\n\u001b[0;32m---> 21\u001b[0;31m     \u001b[0mprint\u001b[0m\u001b[0;34m(\u001b[0m\u001b[0;34m\"Copied: \"\u001b[0m \u001b[0;34m+\u001b[0m \u001b[0mcount\u001b[0m\u001b[0;34m)\u001b[0m\u001b[0;34m\u001b[0m\u001b[0;34m\u001b[0m\u001b[0m\n\u001b[0m\u001b[1;32m     22\u001b[0m     \u001b[0;32mreturn\u001b[0m \u001b[0mcount\u001b[0m\u001b[0;34m\u001b[0m\u001b[0;34m\u001b[0m\u001b[0m\n\u001b[1;32m     23\u001b[0m \u001b[0;34m\u001b[0m\u001b[0m\n",
      "\u001b[0;31mTypeError\u001b[0m: can only concatenate str (not \"int\") to str"
     ]
    }
   ],
   "source": [
    "'''code is showing below the line'''\n",
    "\n",
    "import os\n",
    "from os.path import join as pjoin\n",
    "from skimage import io\n",
    "img_dir = 'dataset'\n",
    "def load_data(data_dir): #lfw is the originalPath\n",
    "\n",
    "    count = 0\n",
    "    print(\"started...\")\n",
    "    for guys in os.listdir(data_dir):\n",
    "        #print(guys)\n",
    "        person_dir = pjoin(data_dir, guys)\n",
    "        for i in os.listdir(person_dir):\n",
    "            image_dir = pjoin(person_dir, i)\n",
    "            img22 = io.imread(image_dir, pilmode='RGB')\n",
    "            #print(image_dir)\n",
    "            io.imsave(pjoin(img_dir, i), img22)\n",
    "            count = count+1\n",
    "        #print(person_dir)\n",
    "    print(\"Copied: \" + str(count)\n",
    "    return count\n",
    "\n",
    "sourcepath = 'lfw'\n",
    "load_data(sourcepath)"
   ]
  },
  {
   "cell_type": "code",
   "execution_count": 2,
   "metadata": {
    "scrolled": true
   },
   "outputs": [],
   "source": [
    "from os.path import join as pjoin\n",
    "def imagedir(basename):\n",
    "    name = basename[0] + \"_\" \n",
    "    if(len(basename[1]) == 1):\n",
    "        name = name + \"000\" + basename[1]\n",
    "    elif(len(basename[1]) == 2):\n",
    "        name = name + \"00\" + basename[1]\n",
    "    elif(len(basename[1]) == 3):\n",
    "        name = name + \"0\" + basename[1]\n",
    "    else:\n",
    "        name = name + basename[1]\n",
    "    data_dir = \"dataset\"\n",
    "    name = name + \".jpg\\n\"\n",
    "    name = pjoin(data_dir, name)\n",
    "    return name\n"
   ]
  },
  {
   "cell_type": "code",
   "execution_count": 3,
   "metadata": {
    "scrolled": true
   },
   "outputs": [
    {
     "name": "stdout",
     "output_type": "stream",
     "text": [
      "starting...\n",
      "262 records written to file\n",
      "done\n"
     ]
    }
   ],
   "source": [
    "print(\"starting...\")       \n",
    "with open('val_individuals.txt') as f1:\n",
    "    with open('val_pairs.txt') as f2:\n",
    "        with open('val_anchor.txt', 'a') as f3:\n",
    "            with open('val_positive.txt', 'a') as f4:\n",
    "                with open('val_negative.txt', 'a') as f5:\n",
    "                    #ind_lines = f1.readlines()\n",
    "                    pair_lines = f2.readlines()\n",
    "                    positive = \"\"\n",
    "                    negative = \"\"\n",
    "                    anchor = \"\"\n",
    "                    count = 0\n",
    "                    for line in f1:\n",
    "                        words_ind = line.split()\n",
    "                        \n",
    "                        for pair in pair_lines:\n",
    "                            names = pair.split()\n",
    "                            if(words_ind[0] == names[0]):\n",
    "                                count = count + 1\n",
    "                                pos = imagedir(names[:2])\n",
    "                                neg = imagedir(names[2:])\n",
    "                                anchor = imagedir(words_ind)\n",
    "                                f3.write(anchor)\n",
    "                                f4.write(pos)\n",
    "                                f5.write(neg)\n",
    "                                #print(anchor)\n",
    "                            elif ( names[2] == words_ind[0] ):\n",
    "                                count = count + 1\n",
    "                                pos = imagedir(names[2:])\n",
    "                                neg = imagedir(names[:2])\n",
    "                                anchor = imagedir(words_ind)\n",
    "                                f3.write(anchor)\n",
    "                                f4.write(pos)\n",
    "                                f5.write(neg)\n",
    "                    print(str(count) + \" records written to file\")\n",
    "                        #if (count > 1):\n",
    "                         #   print(words_ind[0]+\" \"+str(count))\n",
    "                        \n",
    "                                \n",
    "                    \n",
    "print(\"done\")"
   ]
  },
  {
   "cell_type": "code",
   "execution_count": null,
   "metadata": {
    "scrolled": true
   },
   "outputs": [],
   "source": []
  }
 ],
 "metadata": {
  "kernelspec": {
   "display_name": "Python 3",
   "language": "python",
   "name": "python3"
  },
  "language_info": {
   "codemirror_mode": {
    "name": "ipython",
    "version": 3
   },
   "file_extension": ".py",
   "mimetype": "text/x-python",
   "name": "python",
   "nbconvert_exporter": "python",
   "pygments_lexer": "ipython3",
   "version": "3.7.6"
  }
 },
 "nbformat": 4,
 "nbformat_minor": 4
}
